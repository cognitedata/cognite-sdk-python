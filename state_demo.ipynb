{
 "cells": [
  {
   "cell_type": "markdown",
   "id": "b029186c-ddc9-42ef-8d5f-0c7bd7be0a37",
   "metadata": {},
   "source": [
    "### Setup"
   ]
  },
  {
   "cell_type": "code",
   "execution_count": 1,
   "id": "84fcb1ae-1dbf-4a9f-a580-42b5a1a05fb5",
   "metadata": {},
   "outputs": [],
   "source": [
    "import os\n",
    "from pathlib import Path\n",
    "import yaml\n",
    "import dotenv\n",
    "import random\n",
    "import string\n",
    "\n",
    "from cognite.client import CogniteClient, ClientConfig\n",
    "from cognite.client.credentials import OAuthClientCredentials\n",
    "from cognite.client.data_classes.data_modeling import (\n",
    "    SpaceApply,\n",
    "    ContainerApply,\n",
    "    ContainerProperty,\n",
    "    NodeApply,\n",
    "    NodeOrEdgeData,\n",
    "    data_types,\n",
    ")\n",
    "from cognite.client.data_classes.data_modeling.containers import BTreeIndex\n",
    "from cognite.client.exceptions import CogniteAPIError\n",
    "\n",
    "dotenv.load_dotenv()\n",
    "\n",
    "client = CogniteClient(\n",
    "    ClientConfig(\n",
    "        client_name=\"container-state-demo\",\n",
    "        base_url=os.getenv(\"COGNITE_BASE_URL\"),\n",
    "        project=os.getenv(\"COGNITE_PROJECT\"),\n",
    "        credentials=OAuthClientCredentials(\n",
    "            token_url=os.getenv(\"COGNITE_TOKEN_URL\"),\n",
    "            client_id=os.getenv(\"COGNITE_CLIENT_ID\"),\n",
    "            client_secret=os.getenv(\"COGNITE_CLIENT_SECRET\"),\n",
    "            scopes=[os.getenv(\"COGNITE_TOKEN_SCOPES\")],\n",
    "        ),\n",
    "    )\n",
    ")\n",
    "dms = client.data_modeling"
   ]
  },
  {
   "cell_type": "markdown",
   "id": "3b02bd82-edfb-40fd-88a2-61ccb384d2b6",
   "metadata": {},
   "source": [
    "### Create a demo container"
   ]
  },
  {
   "cell_type": "code",
   "execution_count": 2,
   "id": "fc9aef12-cda5-49de-a1d7-9143d0d7669f",
   "metadata": {},
   "outputs": [],
   "source": [
    "space = dms.spaces.apply(SpaceApply(\n",
    "    space=\"container-state-demo\",\n",
    "    description=\"Space for demoing container state fields\"\n",
    ")).space\n",
    "container = dms.containers.apply(ContainerApply(\n",
    "    space=space,\n",
    "    external_id=\"state_demo\",\n",
    "    properties={\n",
    "        \"text_prop\": ContainerProperty(\n",
    "            type=data_types.Text,\n",
    "        ),\n",
    "    }\n",
    "))"
   ]
  },
  {
   "cell_type": "markdown",
   "id": "96b2def9-f7db-4712-b571-460598bfd91d",
   "metadata": {},
   "source": [
    "### Add some data"
   ]
  },
  {
   "cell_type": "code",
   "execution_count": 3,
   "id": "847fc7bb-9337-4012-8975-a13842c1c78e",
   "metadata": {},
   "outputs": [
    {
     "data": {
      "text/plain": [
       "InstancesApplyResult(nodes=[<NodeApplyResult(space='container-state-demo', external_id='node-0', version=1) at 0x7d8e69d09a60>, <NodeApplyResult(space='container-state-demo', external_id='node-1', version=1) at 0x7d8e69d09a00>, <NodeApplyResult(space='container-state-demo', external_id='node-2', version=1) at 0x7d8e69d09af0>, <NodeApplyResult(space='container-state-demo', external_id='node-3', version=1) at 0x7d8e69d09b20>, <NodeApplyResult(space='container-state-demo', external_id='node-4', version=1) at 0x7d8e69d09b50>, <NodeApplyResult(space='container-state-demo', external_id='node-5', version=1) at 0x7d8e69d09a90>, <NodeApplyResult(space='container-state-demo', external_id='node-6', version=1) at 0x7d8e69d09be0>, <NodeApplyResult(space='container-state-demo', external_id='node-7', version=1) at 0x7d8e69d09b80>, <NodeApplyResult(space='container-state-demo', external_id='node-8', version=1) at 0x7d8e69d09cd0>, <NodeApplyResult(space='container-state-demo', external_id='node-9', version=1) at 0x7d8e69d0a870>], edges=[])"
      ]
     },
     "execution_count": 3,
     "metadata": {},
     "output_type": "execute_result"
    }
   ],
   "source": [
    "dms.instances.apply([\n",
    "    NodeApply(space=space, external_id=f\"node-{i}\", sources=[\n",
    "            NodeOrEdgeData(\n",
    "            source=container.as_id(),\n",
    "            properties={\n",
    "                \"text_prop\": str(i),\n",
    "            }\n",
    "        )\n",
    "    ])\n",
    "    for i in range(10)\n",
    "])"
   ]
  },
  {
   "cell_type": "markdown",
   "id": "de44055d-ab48-4214-9a3d-aae3e3edb929",
   "metadata": {},
   "source": [
    "### Add an index"
   ]
  },
  {
   "cell_type": "code",
   "execution_count": null,
   "id": "69119dc6-005d-4211-8d37-eb02baf92d97",
   "metadata": {},
   "outputs": [],
   "source": [
    "container_apply = container.as_apply()\n",
    "container_apply.indexes = {\"test_index\": BTreeIndex(properties=[\"text_prop\"])}\n",
    "container = dms.containers.apply(container_apply)\n",
    "container.indexes[\"test_index\"]"
   ]
  },
  {
   "cell_type": "markdown",
   "id": "f0cb6839-49cd-43de-b9de-1891c51c7447",
   "metadata": {},
   "source": [
    "The index is still building! Check back later.."
   ]
  },
  {
   "cell_type": "code",
   "execution_count": null,
   "id": "63cebcb1-e702-4767-b1e9-46d7799cec0f",
   "metadata": {},
   "outputs": [],
   "source": [
    "dms.containers.retrieve(container.as_id()).indexes[\"test_index\"]"
   ]
  },
  {
   "cell_type": "markdown",
   "id": "e6923cbd-2ef0-4f3e-af58-7150248c145d",
   "metadata": {},
   "source": [
    "### Break the index"
   ]
  },
  {
   "cell_type": "code",
   "execution_count": null,
   "id": "6218eadc-2eac-436b-83b8-63c355c78d2e",
   "metadata": {},
   "outputs": [],
   "source": [
    "try:\n",
    "    dms.instances.apply([\n",
    "        NodeApply(space=space, external_id=\"bad_node_longstr\", sources=[\n",
    "            NodeOrEdgeData(\n",
    "                source=container.as_id(),\n",
    "                properties={\n",
    "                    \"text_prop\": \"\".join(random.choice(string.ascii_letters) for i in range(3000)),\n",
    "                }\n",
    "            )\n",
    "        ]),\n",
    "    ])\n",
    "except CogniteAPIError as e:\n",
    "    print(e.message)"
   ]
  },
  {
   "cell_type": "code",
   "execution_count": null,
   "id": "ed57596d-7ac7-462c-9d08-aa5145ff9560",
   "metadata": {},
   "outputs": [],
   "source": [
    "dms.containers.delete_indexes([(container.as_id(), \"test_index\")])\n",
    "dms.instances.apply([\n",
    "    NodeApply(space=space, external_id=\"bad_node_longstr\", sources=[\n",
    "        NodeOrEdgeData(\n",
    "            source=container.as_id(),\n",
    "            properties={\n",
    "                \"text_prop\": \"\".join(random.choice(string.ascii_letters) for i in range(3000)),\n",
    "            }\n",
    "        )\n",
    "    ]),\n",
    "])\n",
    "# Re-apply the index\n",
    "container_apply = dms.containers.retrieve(container.as_id()).as_apply()\n",
    "container_apply.indexes = {\"test_index2\": BTreeIndex(properties=[\"text_prop\"])}\n",
    "container = dms.containers.apply(container_apply)\n",
    "container.indexes[\"test_index2\"]"
   ]
  },
  {
   "cell_type": "code",
   "execution_count": null,
   "id": "f586809c-78a7-4e41-9bc4-a3edbd2ff777",
   "metadata": {},
   "outputs": [],
   "source": [
    "dms.containers.retrieve(container.as_id()).indexes[\"test_index2\"]"
   ]
  },
  {
   "cell_type": "markdown",
   "id": "d8efcb29-1eda-4424-86ee-12ba98e72724",
   "metadata": {},
   "source": [
    "### Restrict the property size\n",
    "We advice setting `max_text_size` on text properties that should be indexed"
   ]
  },
  {
   "cell_type": "code",
   "execution_count": null,
   "id": "f6f28576-87b4-4fc6-938c-751b084ce091",
   "metadata": {},
   "outputs": [],
   "source": [
    "container_apply.properties[\"text_prop\"].type.max_text_size = 100\n",
    "container = dms.containers.apply(container_apply)\n",
    "container.properties[\"text_prop\"].constraint_state"
   ]
  },
  {
   "cell_type": "code",
   "execution_count": null,
   "id": "2a414bd5-d074-4d63-97b9-c457fc888484",
   "metadata": {},
   "outputs": [],
   "source": [
    "dms.containers.retrieve(container.as_id()).properties[\"text_prop\"].constraint_state"
   ]
  },
  {
   "cell_type": "code",
   "execution_count": null,
   "id": "9070140d-af4b-43b9-8d6a-c62184034582",
   "metadata": {},
   "outputs": [],
   "source": [
    "try:\n",
    "    dms.instances.apply([\n",
    "        NodeApply(space=space, external_id=\"bad_node_longstr2\", sources=[\n",
    "            NodeOrEdgeData(\n",
    "                source=container.as_id(),\n",
    "                properties={\n",
    "                    \"text_prop\": \"\".join(random.choice(string.ascii_letters) for i in range(3000)),\n",
    "                }\n",
    "            )\n",
    "        ]),\n",
    "    ])\n",
    "except CogniteAPIError as e:\n",
    "    print(e.message)"
   ]
  },
  {
   "cell_type": "markdown",
   "id": "b756a06e-5276-4350-858f-e3a053fb9afa",
   "metadata": {},
   "source": [
    "### Delete bad data"
   ]
  },
  {
   "cell_type": "code",
   "execution_count": null,
   "id": "cf82872c-9edb-4f36-b2d9-3fa626798adf",
   "metadata": {},
   "outputs": [],
   "source": [
    "dms.instances.delete((space, \"bad_node_longstr\"))"
   ]
  },
  {
   "cell_type": "code",
   "execution_count": null,
   "id": "3c905d30-7020-49b9-96a2-4feaeb4924e4",
   "metadata": {},
   "outputs": [],
   "source": [
    "dms.containers.delete_indexes([(container.as_id(), \"test_index\")])"
   ]
  },
  {
   "cell_type": "markdown",
   "id": "c91f6899-e60f-4307-bebe-6ff57ee027b0",
   "metadata": {},
   "source": [
    "The constraint won't be revalidated automatically"
   ]
  },
  {
   "cell_type": "code",
   "execution_count": null,
   "id": "f790f8a3-7602-4e32-97b6-92eed86b4bfe",
   "metadata": {},
   "outputs": [],
   "source": [
    "container_apply = dms.containers.retrieve(container.as_id()).as_apply()\n",
    "container_apply.properties[\"text_prop\"].type.max_text_size = 101\n",
    "container = dms.containers.apply(container_apply)\n",
    "container.properties[\"text_prop\"].constraint_state"
   ]
  },
  {
   "cell_type": "code",
   "execution_count": null,
   "id": "fbfdb362-1595-46cd-9586-a4b8d9e850d6",
   "metadata": {},
   "outputs": [],
   "source": [
    "dms.containers.retrieve(container.as_id()).properties[\"text_prop\"].constraint_state"
   ]
  },
  {
   "cell_type": "markdown",
   "id": "6a7c1784-d2d2-4731-8fb5-18656eb8964d",
   "metadata": {},
   "source": [
    "### Re-apply the index"
   ]
  },
  {
   "cell_type": "code",
   "execution_count": null,
   "id": "f197b346-287a-4b72-a4e4-a3a39f460626",
   "metadata": {},
   "outputs": [],
   "source": [
    "container_apply = dms.containers.retrieve(container.as_id()).as_apply()\n",
    "container_apply.indexes = {\"test_index\": BTreeIndex(properties=[\"text_prop\"])}\n",
    "container = dms.containers.apply(container_apply)\n",
    "container.indexes[\"test_index\"]"
   ]
  },
  {
   "cell_type": "code",
   "execution_count": null,
   "id": "4e4f3b2d-073a-47e0-8ae9-d136f1b2042c",
   "metadata": {},
   "outputs": [],
   "source": [
    "dms.containers.retrieve(container.as_id()).indexes[\"test_index\"]"
   ]
  },
  {
   "cell_type": "markdown",
   "id": "2f2e08d5-7cb0-4cf8-8b1f-1698a728aabf",
   "metadata": {},
   "source": [
    "## Also: Container-level constraints\n",
    "Requires constraints and uniqueness constraints"
   ]
  },
  {
   "cell_type": "markdown",
   "id": "d995f1ec-2e4e-45c6-becc-f7ad16133ac7",
   "metadata": {},
   "source": [
    "### Cleanup"
   ]
  },
  {
   "cell_type": "code",
   "execution_count": 4,
   "id": "0f6b507a-f5b1-4178-ba74-ca08d16b73e3",
   "metadata": {},
   "outputs": [
    {
     "data": {
      "text/plain": [
       "['container-state-demo']"
      ]
     },
     "execution_count": 4,
     "metadata": {},
     "output_type": "execute_result"
    }
   ],
   "source": [
    "dms.instances.delete([(space, extid) for extid in [f\"node-{i}\" for i in range(10)]])\n",
    "dms.containers.delete((space, \"state_demo\"))\n",
    "dms.spaces.delete(space)"
   ]
  }
 ],
 "metadata": {
  "kernelspec": {
   "display_name": "Python 3 (ipykernel)",
   "language": "python",
   "name": "python3"
  },
  "language_info": {
   "codemirror_mode": {
    "name": "ipython",
    "version": 3
   },
   "file_extension": ".py",
   "mimetype": "text/x-python",
   "name": "python",
   "nbconvert_exporter": "python",
   "pygments_lexer": "ipython3",
   "version": "3.12.9"
  }
 },
 "nbformat": 4,
 "nbformat_minor": 5
}
