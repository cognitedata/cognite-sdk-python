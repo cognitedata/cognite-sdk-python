{
  "nbformat": 4,
  "nbformat_minor": 0,
  "metadata": {
    "colab": {
      "name": "Introduction_to_Data_Visualization_CDP.ipynb",
      "version": "0.3.2",
      "provenance": [],
      "include_colab_link": true
    },
    "kernelspec": {
      "name": "python3",
      "display_name": "Python 3"
    }
  },
  "cells": [
    {
      "cell_type": "markdown",
      "metadata": {
        "id": "view-in-github",
        "colab_type": "text"
      },
      "source": [
        "<a href=\"https://colab.research.google.com/github/bradleywhitlock/CDP-Exploration/blob/master/Introduction_to_Data_Exploration_CDP.ipynb\" target=\"_parent\"><img src=\"https://colab.research.google.com/assets/colab-badge.svg\" alt=\"Open In Colab\"/></a>"
      ]
    },
    {
      "metadata": {
        "id": "eAXnMj5E9jWG",
        "colab_type": "text"
      },
      "cell_type": "markdown",
      "source": [
        "# Introduction to Data Visualization @ Cognite\n",
        "\n",
        "## What this notebook will achieve\n",
        "\n",
        "* Extract live data from an oil rig in the North Sea.\n",
        "\n",
        "* Visualize and inspect data directly from the Cognite Data Platform.\n",
        "\n",
        "* How to run a machine learning model on the data.\n",
        "\n",
        "\n",
        "## Getting started\n",
        "\n",
        "* Having a basic understanding of Python concepts will help to understand the process.\n",
        "\n",
        "* Cognite has released *live* data to the public on the Cognite Data Platform streaming from [Valhall](https://www.akerbp.com/en/our-assets/production/valhall/), one of Aker's oil fields.\n",
        "\n",
        "* To access the data, generate an API Key on [Open Industrial Data](https://openindustrialdata.com/). Get your key via the Google Access platform. You will be asked to fill out some personal information to generate your personal key.\n",
        "\n",
        "* Visualize some of the machines (assets) on Valhall with Cognite's [Operational Intelligence](https://opint.cogniteapp.com/publicdata/infographics/-LOHKEJPLvt0eRIZu8mE) dashboard. This data on this page shows is streaming live data from the Valhall oil field located in the North Sea.\n",
        "\n",
        "* To understand how to interact with the data using the Python SDK ([Docs](https://cognite-sdk-python.readthedocs-hosted.com/en/latest/)) follow along in this notebook."
      ]
    },
    {
      "metadata": {
        "id": "k8-Oj493ReNU",
        "colab_type": "text"
      },
      "cell_type": "markdown",
      "source": [
        "## Environment Setup"
      ]
    },
    {
      "metadata": {
        "id": "4Lf5pnaDBLnc",
        "colab_type": "text"
      },
      "cell_type": "markdown",
      "source": [
        "#### Install the Cognite SDK package"
      ]
    },
    {
      "metadata": {
        "id": "pbgkP3p59iiK",
        "colab_type": "code",
        "outputId": "08280aa7-b1f3-4ba1-c5bf-06252ed70958",
        "colab": {
          "base_uri": "https://localhost:8080/",
          "height": 272
        }
      },
      "cell_type": "code",
      "source": [
        "!pip install cognite-sdk"
      ],
      "execution_count": 8,
      "outputs": [
        {
          "output_type": "stream",
          "text": [
            "Requirement already satisfied: cognite-sdk in /usr/local/lib/python3.6/dist-packages (0.12.13)\n",
            "Requirement already satisfied: cognite-logger>=0.3 in /usr/local/lib/python3.6/dist-packages (from cognite-sdk) (0.3.2)\n",
            "Requirement already satisfied: requests in /usr/local/lib/python3.6/dist-packages (from cognite-sdk) (2.18.4)\n",
            "Requirement already satisfied: pandas in /usr/local/lib/python3.6/dist-packages (from cognite-sdk) (0.22.0)\n",
            "Requirement already satisfied: protobuf in /usr/local/lib/python3.6/dist-packages (from cognite-sdk) (3.6.1)\n",
            "Requirement already satisfied: python-json-logger==0.1.8 in /usr/local/lib/python3.6/dist-packages (from cognite-logger>=0.3->cognite-sdk) (0.1.8)\n",
            "Requirement already satisfied: chardet<3.1.0,>=3.0.2 in /usr/local/lib/python3.6/dist-packages (from requests->cognite-sdk) (3.0.4)\n",
            "Requirement already satisfied: urllib3<1.23,>=1.21.1 in /usr/local/lib/python3.6/dist-packages (from requests->cognite-sdk) (1.22)\n",
            "Requirement already satisfied: idna<2.7,>=2.5 in /usr/local/lib/python3.6/dist-packages (from requests->cognite-sdk) (2.6)\n",
            "Requirement already satisfied: certifi>=2017.4.17 in /usr/local/lib/python3.6/dist-packages (from requests->cognite-sdk) (2018.11.29)\n",
            "Requirement already satisfied: python-dateutil>=2 in /usr/local/lib/python3.6/dist-packages (from pandas->cognite-sdk) (2.5.3)\n",
            "Requirement already satisfied: pytz>=2011k in /usr/local/lib/python3.6/dist-packages (from pandas->cognite-sdk) (2018.9)\n",
            "Requirement already satisfied: numpy>=1.9.0 in /usr/local/lib/python3.6/dist-packages (from pandas->cognite-sdk) (1.14.6)\n",
            "Requirement already satisfied: six>=1.9 in /usr/local/lib/python3.6/dist-packages (from protobuf->cognite-sdk) (1.11.0)\n",
            "Requirement already satisfied: setuptools in /usr/local/lib/python3.6/dist-packages (from protobuf->cognite-sdk) (40.8.0)\n"
          ],
          "name": "stdout"
        }
      ]
    },
    {
      "metadata": {
        "id": "CN5J9FmPBRLk",
        "colab_type": "text"
      },
      "cell_type": "markdown",
      "source": [
        "#### Import the required packages"
      ]
    },
    {
      "metadata": {
        "id": "uFkQ73a44wmU",
        "colab_type": "code",
        "colab": {}
      },
      "cell_type": "code",
      "source": [
        "%matplotlib inline\n",
        "\n",
        "import os\n",
        "from datetime import datetime, timedelta\n",
        "from datetime import datetime\n",
        "from getpass import getpass\n",
        "\n",
        "import numpy as np\n",
        "import pandas as pd\n",
        "import matplotlib.pyplot as plt\n",
        "from sklearn.ensemble import RandomForestRegressor\n",
        "from sklearn.linear_model import LinearRegression\n",
        "\n",
        "from cognite import CogniteClient"
      ],
      "execution_count": 0,
      "outputs": []
    },
    {
      "metadata": {
        "id": "Pr0CQECZBWW3",
        "colab_type": "text"
      },
      "cell_type": "markdown",
      "source": [
        "#### Connect to the Cognite Data Platform\n",
        "* This client object is how all queries will be sent to the Cognite API to retrieve data.\n",
        "\n",
        "When prompted for your API key, use the key generated by open industrial data as mentioned in the Getting Started steps."
      ]
    },
    {
      "metadata": {
        "id": "E8CdoRFu9n2t",
        "colab_type": "code",
        "outputId": "d1753b86-0b79-4984-e5e0-750bfaf124db",
        "colab": {
          "base_uri": "https://localhost:8080/",
          "height": 34
        }
      },
      "cell_type": "code",
      "source": [
        "client = CogniteClient(api_key=getpass(\"Open Industrial Data API-KEY: \"))"
      ],
      "execution_count": 4,
      "outputs": [
        {
          "output_type": "stream",
          "text": [
            "Open Industrial Data API-KEY: ··········\n"
          ],
          "name": "stdout"
        }
      ]
    },
    {
      "metadata": {
        "id": "VKFPBwYsRjHL",
        "colab_type": "text"
      },
      "cell_type": "markdown",
      "source": [
        "## Accessing Cognite Data Platform (CDP)\n",
        "* The CDP organizes digital information about the physical world.\n",
        "* There are 6 kinds of objects stored on the CDP. Each of these objects in the CDP are labelled with a unique ID. Information regarding a specific Asset, Event, etc are often retrieved using this ID.\n",
        "\n",
        "  * [Assets](https://doc.cognitedata.com/api/0.5/#tag/Assets) are digital representations of physical objects or groups of objects, and assets are organized into an asset hierarchy. For example, an asset can represent a water pump which is part of a subsystem on an oil platform.\n",
        "  \n",
        "  * [Event](https://doc.cognitedata.com/api/0.5/#tag/Events) objects store complex information about multiple assets over a time period. For example, an event can describe two hours of maintenance on a water pump and some associated pipes.\n",
        "  \n",
        "  * A [File](https://doc.cognitedata.com/api/0.5/#tag/Files) stores a sequence of bytes connected to one or more assets. For example, a file can contain a piping and instrumentation diagram (P&IDs) showing how multiple assets are connected.\n",
        "  \n",
        "  * A [Time Series](https://doc.cognitedata.com/api/0.5/#tag/Time-series) consists of a sequence of data points connected to a single asset. For example: A water pump asset can have a temperature time series that records a data point in units of °C every second.\n",
        "  \n",
        "  * [Sequence](https://doc.cognitedata.com/api/0.5/#tag/Sequences) are similar to time series in that they are a key value pair, but rather than using a timestamp as the key, another measurment such as depth could be the key. For example, this is used in practice when drilling and taking measurments at various depths.\n",
        "  \n",
        "  * A [3D](https://doc.cognitedata.com/api/0.5/#tag/3D) model is typically built up by a hierarchical structure. This looks very similar to how we organize our internal asset hierarchy. 3D models are visualized via Cognite's dashboards.\n",
        "  \n",
        "* It is important to refer back to the [SDK](https://cognite-sdk-python.readthedocs-hosted.com/en/latest/cognite.html) for specific details on arguments on all avaiable methods on how to access these objects."
      ]
    },
    {
      "metadata": {
        "id": "Fn9FD2lMWUwI",
        "colab_type": "text"
      },
      "cell_type": "markdown",
      "source": [
        "### Collecting Asset Information"
      ]
    },
    {
      "metadata": {
        "id": "dRiusGapFmT8",
        "colab_type": "text"
      },
      "cell_type": "markdown",
      "source": [
        "#### Retrieve a list of all Assets\n",
        "\n",
        "* There are thousands of Assets in the CDP, we can have a look at a few examples.\n",
        "\n",
        "* This will generate a list of assets from the CDP with no particular filters, this is a random result. Generally we would want to apply filters when retrieving records.\n"
      ]
    },
    {
      "metadata": {
        "id": "_sACMOGWFmna",
        "colab_type": "code",
        "colab": {
          "base_uri": "https://localhost:8080/",
          "height": 374
        },
        "outputId": "41e482b7-70b4-41f7-bfc9-014e77205a5c"
      },
      "cell_type": "code",
      "source": [
        "client.assets.get_assets().to_pandas().head()"
      ],
      "execution_count": 7,
      "outputs": [
        {
          "output_type": "execute_result",
          "data": {
            "text/html": [
              "<div>\n",
              "<style scoped>\n",
              "    .dataframe tbody tr th:only-of-type {\n",
              "        vertical-align: middle;\n",
              "    }\n",
              "\n",
              "    .dataframe tbody tr th {\n",
              "        vertical-align: top;\n",
              "    }\n",
              "\n",
              "    .dataframe thead th {\n",
              "        text-align: right;\n",
              "    }\n",
              "</style>\n",
              "<table border=\"1\" class=\"dataframe\">\n",
              "  <thead>\n",
              "    <tr style=\"text-align: right;\">\n",
              "      <th></th>\n",
              "      <th>createdTime</th>\n",
              "      <th>depth</th>\n",
              "      <th>description</th>\n",
              "      <th>id</th>\n",
              "      <th>lastUpdatedTime</th>\n",
              "      <th>metadata</th>\n",
              "      <th>name</th>\n",
              "      <th>parentId</th>\n",
              "      <th>path</th>\n",
              "    </tr>\n",
              "  </thead>\n",
              "  <tbody>\n",
              "    <tr>\n",
              "      <th>0</th>\n",
              "      <td>0</td>\n",
              "      <td>2</td>\n",
              "      <td>GAS COMPRESSION AND RE-INJECTION (PH)</td>\n",
              "      <td>3111454725058294</td>\n",
              "      <td>0</td>\n",
              "      <td>{'SOURCE_DB': 'workmate', 'SOURCE_TABLE': 'wma...</td>\n",
              "      <td>23</td>\n",
              "      <td>4650652196144007</td>\n",
              "      <td>[6687602007296940, 4650652196144007, 311145472...</td>\n",
              "    </tr>\n",
              "    <tr>\n",
              "      <th>1</th>\n",
              "      <td>0</td>\n",
              "      <td>7</td>\n",
              "      <td>1ST STAGE COMP DRY GAS SEAL SYS ON PH</td>\n",
              "      <td>3904753668320840</td>\n",
              "      <td>0</td>\n",
              "      <td>{'ELC_STATUS_ID': '1211', 'SOURCE_DB': 'workma...</td>\n",
              "      <td>23-1ST STAGE COMP DRY GAS SEAL SYS-PH</td>\n",
              "      <td>4856008121737468</td>\n",
              "      <td>[6687602007296940, 4650652196144007, 311145472...</td>\n",
              "    </tr>\n",
              "    <tr>\n",
              "      <th>2</th>\n",
              "      <td>0</td>\n",
              "      <td>7</td>\n",
              "      <td>1ST STAGE COMP ENCLOSURE ON PH</td>\n",
              "      <td>2499711953216311</td>\n",
              "      <td>0</td>\n",
              "      <td>{'ELC_STATUS_ID': '1211', 'SOURCE_DB': 'workma...</td>\n",
              "      <td>23-1ST STAGE COMP ENCLOSURE-PH</td>\n",
              "      <td>4856008121737468</td>\n",
              "      <td>[6687602007296940, 4650652196144007, 311145472...</td>\n",
              "    </tr>\n",
              "    <tr>\n",
              "      <th>3</th>\n",
              "      <td>0</td>\n",
              "      <td>7</td>\n",
              "      <td>1ST STAGE COMP LUBE OIL SYS ON PH</td>\n",
              "      <td>2137557577165478</td>\n",
              "      <td>0</td>\n",
              "      <td>{'ELC_STATUS_ID': '1211', 'SOURCE_DB': 'workma...</td>\n",
              "      <td>23-1ST STAGE COMP LUBE OIL SYS-PH</td>\n",
              "      <td>4856008121737468</td>\n",
              "      <td>[6687602007296940, 4650652196144007, 311145472...</td>\n",
              "    </tr>\n",
              "    <tr>\n",
              "      <th>4</th>\n",
              "      <td>0</td>\n",
              "      <td>4</td>\n",
              "      <td>1ST STAGE COMPRESSION ON PH</td>\n",
              "      <td>4518112062673878</td>\n",
              "      <td>0</td>\n",
              "      <td>{'ELC_STATUS_ID': '1211', 'SOURCE_DB': 'workma...</td>\n",
              "      <td>23-1ST STAGE COMPRESSION-PH</td>\n",
              "      <td>6895991969886325</td>\n",
              "      <td>[6687602007296940, 4650652196144007, 311145472...</td>\n",
              "    </tr>\n",
              "  </tbody>\n",
              "</table>\n",
              "</div>"
            ],
            "text/plain": [
              "   createdTime  depth                            description  \\\n",
              "0            0      2  GAS COMPRESSION AND RE-INJECTION (PH)   \n",
              "1            0      7  1ST STAGE COMP DRY GAS SEAL SYS ON PH   \n",
              "2            0      7         1ST STAGE COMP ENCLOSURE ON PH   \n",
              "3            0      7      1ST STAGE COMP LUBE OIL SYS ON PH   \n",
              "4            0      4            1ST STAGE COMPRESSION ON PH   \n",
              "\n",
              "                 id  lastUpdatedTime  \\\n",
              "0  3111454725058294                0   \n",
              "1  3904753668320840                0   \n",
              "2  2499711953216311                0   \n",
              "3  2137557577165478                0   \n",
              "4  4518112062673878                0   \n",
              "\n",
              "                                            metadata  \\\n",
              "0  {'SOURCE_DB': 'workmate', 'SOURCE_TABLE': 'wma...   \n",
              "1  {'ELC_STATUS_ID': '1211', 'SOURCE_DB': 'workma...   \n",
              "2  {'ELC_STATUS_ID': '1211', 'SOURCE_DB': 'workma...   \n",
              "3  {'ELC_STATUS_ID': '1211', 'SOURCE_DB': 'workma...   \n",
              "4  {'ELC_STATUS_ID': '1211', 'SOURCE_DB': 'workma...   \n",
              "\n",
              "                                    name          parentId  \\\n",
              "0                                     23  4650652196144007   \n",
              "1  23-1ST STAGE COMP DRY GAS SEAL SYS-PH  4856008121737468   \n",
              "2         23-1ST STAGE COMP ENCLOSURE-PH  4856008121737468   \n",
              "3      23-1ST STAGE COMP LUBE OIL SYS-PH  4856008121737468   \n",
              "4            23-1ST STAGE COMPRESSION-PH  6895991969886325   \n",
              "\n",
              "                                                path  \n",
              "0  [6687602007296940, 4650652196144007, 311145472...  \n",
              "1  [6687602007296940, 4650652196144007, 311145472...  \n",
              "2  [6687602007296940, 4650652196144007, 311145472...  \n",
              "3  [6687602007296940, 4650652196144007, 311145472...  \n",
              "4  [6687602007296940, 4650652196144007, 311145472...  "
            ]
          },
          "metadata": {
            "tags": []
          },
          "execution_count": 7
        }
      ]
    },
    {
      "metadata": {
        "id": "ysq_kFWLGYFV",
        "colab_type": "text"
      },
      "cell_type": "markdown",
      "source": [
        "#### Decide on which asset we want to explore\n",
        "* To get started exploring data in the CDP, we must first decide on which Asset we want to gather information from.\n",
        "\n",
        "* Some asset names may be retrieved from the [Op Int](https://opint.cogniteapp.com/publicdata/infographics/-LOHKEJPLvt0eRIZu8mE) dashboard.\n",
        "\n",
        "* Here is a screehshot of the [OpInt Dashboard](https://drive.google.com/open?id=1f_7nJaJu5Xgr3Oq09mIZ0KwjBAYbzEUQ) incase the page does not load.\n",
        "\n",
        "* Some example asset names are:\n",
        "  * 23-HA-9103\n",
        "  * 23-PV-92583\n",
        "  * 23-VG-9101\n",
        "  \n",
        "The *fuzzy* search for an asset can be performed as followed\n"
      ]
    },
    {
      "metadata": {
        "id": "L9DHHUpwBJOv",
        "colab_type": "code",
        "outputId": "5396771d-161a-4145-918e-733b4933799c",
        "colab": {
          "base_uri": "https://localhost:8080/",
          "height": 289
        }
      },
      "cell_type": "code",
      "source": [
        "asset_name = \"23-HA-9103\"\n",
        "asset_df = client.assets.search_for_assets(name=asset_name).to_pandas()\n",
        "asset_df.head()\n"
      ],
      "execution_count": 0,
      "outputs": [
        {
          "output_type": "execute_result",
          "data": {
            "text/html": [
              "<div>\n",
              "<style scoped>\n",
              "    .dataframe tbody tr th:only-of-type {\n",
              "        vertical-align: middle;\n",
              "    }\n",
              "\n",
              "    .dataframe tbody tr th {\n",
              "        vertical-align: top;\n",
              "    }\n",
              "\n",
              "    .dataframe thead th {\n",
              "        text-align: right;\n",
              "    }\n",
              "</style>\n",
              "<table border=\"1\" class=\"dataframe\">\n",
              "  <thead>\n",
              "    <tr style=\"text-align: right;\">\n",
              "      <th></th>\n",
              "      <th>createdTime</th>\n",
              "      <th>depth</th>\n",
              "      <th>description</th>\n",
              "      <th>id</th>\n",
              "      <th>lastUpdatedTime</th>\n",
              "      <th>metadata</th>\n",
              "      <th>name</th>\n",
              "      <th>parentId</th>\n",
              "      <th>path</th>\n",
              "    </tr>\n",
              "  </thead>\n",
              "  <tbody>\n",
              "    <tr>\n",
              "      <th>0</th>\n",
              "      <td>0</td>\n",
              "      <td>6</td>\n",
              "      <td>VRD - 1ST STAGE SUCTION COOLER</td>\n",
              "      <td>2861239574637735</td>\n",
              "      <td>0</td>\n",
              "      <td>{'ELC_STATUS_ID': '1211', 'RES_ID': '531306', ...</td>\n",
              "      <td>23-HA-9103</td>\n",
              "      <td>2513266419866445</td>\n",
              "      <td>[6687602007296940, 4650652196144007, 311145472...</td>\n",
              "    </tr>\n",
              "    <tr>\n",
              "      <th>1</th>\n",
              "      <td>0</td>\n",
              "      <td>6</td>\n",
              "      <td>VRD - 1ST STAGE DISCHARGE COOLER 2</td>\n",
              "      <td>1305599545806638</td>\n",
              "      <td>0</td>\n",
              "      <td>{'ELC_STATUS_ID': '1211', 'RES_ID': '531303', ...</td>\n",
              "      <td>23-HA-9115</td>\n",
              "      <td>2513266419866445</td>\n",
              "      <td>[6687602007296940, 4650652196144007, 311145472...</td>\n",
              "    </tr>\n",
              "    <tr>\n",
              "      <th>2</th>\n",
              "      <td>0</td>\n",
              "      <td>8</td>\n",
              "      <td>VRD - 1ST STAGE COMPRESSOR LUBE OIL COOLER A</td>\n",
              "      <td>4965752723543746</td>\n",
              "      <td>0</td>\n",
              "      <td>{'ELC_STATUS_ID': '1211', 'RES_ID': '786890', ...</td>\n",
              "      <td>23-HA-9107A</td>\n",
              "      <td>2137557577165478</td>\n",
              "      <td>[6687602007296940, 4650652196144007, 311145472...</td>\n",
              "    </tr>\n",
              "    <tr>\n",
              "      <th>3</th>\n",
              "      <td>0</td>\n",
              "      <td>6</td>\n",
              "      <td>VRD - 1ST STAGE DISCHARGE COOLER 1</td>\n",
              "      <td>5345363121325760</td>\n",
              "      <td>0</td>\n",
              "      <td>{'ELC_STATUS_ID': '1211', 'RES_ID': '531303', ...</td>\n",
              "      <td>23-HA-9114</td>\n",
              "      <td>2513266419866445</td>\n",
              "      <td>[6687602007296940, 4650652196144007, 311145472...</td>\n",
              "    </tr>\n",
              "    <tr>\n",
              "      <th>4</th>\n",
              "      <td>0</td>\n",
              "      <td>8</td>\n",
              "      <td>VRD - 1ST STAGE COMPRESSOR LUBE OIL COOLER B</td>\n",
              "      <td>6838563873305104</td>\n",
              "      <td>0</td>\n",
              "      <td>{'ELC_STATUS_ID': '1211', 'RES_ID': '786896', ...</td>\n",
              "      <td>23-HA-9107B</td>\n",
              "      <td>2137557577165478</td>\n",
              "      <td>[6687602007296940, 4650652196144007, 311145472...</td>\n",
              "    </tr>\n",
              "  </tbody>\n",
              "</table>\n",
              "</div>"
            ],
            "text/plain": [
              "   createdTime  depth                                   description  \\\n",
              "0            0      6                VRD - 1ST STAGE SUCTION COOLER   \n",
              "1            0      6            VRD - 1ST STAGE DISCHARGE COOLER 2   \n",
              "2            0      8  VRD - 1ST STAGE COMPRESSOR LUBE OIL COOLER A   \n",
              "3            0      6            VRD - 1ST STAGE DISCHARGE COOLER 1   \n",
              "4            0      8  VRD - 1ST STAGE COMPRESSOR LUBE OIL COOLER B   \n",
              "\n",
              "                 id  lastUpdatedTime  \\\n",
              "0  2861239574637735                0   \n",
              "1  1305599545806638                0   \n",
              "2  4965752723543746                0   \n",
              "3  5345363121325760                0   \n",
              "4  6838563873305104                0   \n",
              "\n",
              "                                            metadata         name  \\\n",
              "0  {'ELC_STATUS_ID': '1211', 'RES_ID': '531306', ...   23-HA-9103   \n",
              "1  {'ELC_STATUS_ID': '1211', 'RES_ID': '531303', ...   23-HA-9115   \n",
              "2  {'ELC_STATUS_ID': '1211', 'RES_ID': '786890', ...  23-HA-9107A   \n",
              "3  {'ELC_STATUS_ID': '1211', 'RES_ID': '531303', ...   23-HA-9114   \n",
              "4  {'ELC_STATUS_ID': '1211', 'RES_ID': '786896', ...  23-HA-9107B   \n",
              "\n",
              "           parentId                                               path  \n",
              "0  2513266419866445  [6687602007296940, 4650652196144007, 311145472...  \n",
              "1  2513266419866445  [6687602007296940, 4650652196144007, 311145472...  \n",
              "2  2137557577165478  [6687602007296940, 4650652196144007, 311145472...  \n",
              "3  2513266419866445  [6687602007296940, 4650652196144007, 311145472...  \n",
              "4  2137557577165478  [6687602007296940, 4650652196144007, 311145472...  "
            ]
          },
          "metadata": {
            "tags": []
          },
          "execution_count": 4
        }
      ]
    },
    {
      "metadata": {
        "id": "THRHdIXwS-bf",
        "colab_type": "text"
      },
      "cell_type": "markdown",
      "source": [
        "#### Get information on the asset of interest\n",
        "\n",
        "* We can filter the assets to get asset-specific details based on asset_name\n",
        "\n",
        "* The *get_asset()* interface provides the same information for 1 specific asset based on the provided ID\n"
      ]
    },
    {
      "metadata": {
        "id": "kxnrtYoYSBGo",
        "colab_type": "code",
        "outputId": "4568d494-bbec-4f41-e526-4e8b46f8d3c2",
        "colab": {
          "base_uri": "https://localhost:8080/",
          "height": 328
        }
      },
      "cell_type": "code",
      "source": [
        "asset_id = asset_df[asset_df[\"name\"] == asset_name].iloc[0]['id']\n",
        "asset = client.assets.get_asset(asset_id=asset_id).to_pandas()\n",
        "asset"
      ],
      "execution_count": 0,
      "outputs": [
        {
          "output_type": "execute_result",
          "data": {
            "text/html": [
              "<div>\n",
              "<style scoped>\n",
              "    .dataframe tbody tr th:only-of-type {\n",
              "        vertical-align: middle;\n",
              "    }\n",
              "\n",
              "    .dataframe tbody tr th {\n",
              "        vertical-align: top;\n",
              "    }\n",
              "\n",
              "    .dataframe thead th {\n",
              "        text-align: right;\n",
              "    }\n",
              "</style>\n",
              "<table border=\"1\" class=\"dataframe\">\n",
              "  <thead>\n",
              "    <tr style=\"text-align: right;\">\n",
              "      <th></th>\n",
              "      <th>0</th>\n",
              "    </tr>\n",
              "  </thead>\n",
              "  <tbody>\n",
              "    <tr>\n",
              "      <th>id</th>\n",
              "      <td>2861239574637735</td>\n",
              "    </tr>\n",
              "    <tr>\n",
              "      <th>depth</th>\n",
              "      <td>6</td>\n",
              "    </tr>\n",
              "    <tr>\n",
              "      <th>name</th>\n",
              "      <td>23-HA-9103</td>\n",
              "    </tr>\n",
              "    <tr>\n",
              "      <th>parentId</th>\n",
              "      <td>2513266419866445</td>\n",
              "    </tr>\n",
              "    <tr>\n",
              "      <th>description</th>\n",
              "      <td>VRD - 1ST STAGE SUCTION COOLER</td>\n",
              "    </tr>\n",
              "    <tr>\n",
              "      <th>metadata</th>\n",
              "      <td>{'ELC_STATUS_ID': '1211', 'RES_ID': '531306', ...</td>\n",
              "    </tr>\n",
              "    <tr>\n",
              "      <th>createdTime</th>\n",
              "      <td>0</td>\n",
              "    </tr>\n",
              "    <tr>\n",
              "      <th>lastUpdatedTime</th>\n",
              "      <td>0</td>\n",
              "    </tr>\n",
              "    <tr>\n",
              "      <th>path</th>\n",
              "      <td>[6687602007296940, 4650652196144007, 311145472...</td>\n",
              "    </tr>\n",
              "  </tbody>\n",
              "</table>\n",
              "</div>"
            ],
            "text/plain": [
              "                                                                 0\n",
              "id                                                2861239574637735\n",
              "depth                                                            6\n",
              "name                                                    23-HA-9103\n",
              "parentId                                          2513266419866445\n",
              "description                         VRD - 1ST STAGE SUCTION COOLER\n",
              "metadata         {'ELC_STATUS_ID': '1211', 'RES_ID': '531306', ...\n",
              "createdTime                                                      0\n",
              "lastUpdatedTime                                                  0\n",
              "path             [6687602007296940, 4650652196144007, 311145472..."
            ]
          },
          "metadata": {
            "tags": []
          },
          "execution_count": 5
        }
      ]
    },
    {
      "metadata": {
        "id": "X75GOITO_m1q",
        "colab_type": "text"
      },
      "cell_type": "markdown",
      "source": [
        "#### How do we get Asset relationships?\n",
        "\n",
        "* The interface *get_asset_subtree()* can be used to retrieve the *children* of an Asset. \n",
        "\n",
        "* Each Asset is given various properties, some of the useful ones for this method are:\n",
        "\n",
        "  * Depth: The number of edges from the parent node\n",
        "  \n",
        "  * Description: Includes information such as the platform and type of sensor being monitored\n",
        "  \n",
        "We will generate a list of all children of the main asset of interest. This is done by specifying a depth of 1."
      ]
    },
    {
      "metadata": {
        "id": "1OPecRPv6xsU",
        "colab_type": "code",
        "outputId": "1b282255-fb8a-412b-a30c-4a4c096d1719",
        "colab": {
          "base_uri": "https://localhost:8080/",
          "height": 289
        }
      },
      "cell_type": "code",
      "source": [
        "subtree_df = client.assets.get_asset_subtree(asset_id=asset_id, depth=1).to_pandas()\n",
        "subtree_df.head()"
      ],
      "execution_count": 0,
      "outputs": [
        {
          "output_type": "execute_result",
          "data": {
            "text/html": [
              "<div>\n",
              "<style scoped>\n",
              "    .dataframe tbody tr th:only-of-type {\n",
              "        vertical-align: middle;\n",
              "    }\n",
              "\n",
              "    .dataframe tbody tr th {\n",
              "        vertical-align: top;\n",
              "    }\n",
              "\n",
              "    .dataframe thead th {\n",
              "        text-align: right;\n",
              "    }\n",
              "</style>\n",
              "<table border=\"1\" class=\"dataframe\">\n",
              "  <thead>\n",
              "    <tr style=\"text-align: right;\">\n",
              "      <th></th>\n",
              "      <th>createdTime</th>\n",
              "      <th>depth</th>\n",
              "      <th>description</th>\n",
              "      <th>id</th>\n",
              "      <th>lastUpdatedTime</th>\n",
              "      <th>metadata</th>\n",
              "      <th>name</th>\n",
              "      <th>parentId</th>\n",
              "      <th>path</th>\n",
              "    </tr>\n",
              "  </thead>\n",
              "  <tbody>\n",
              "    <tr>\n",
              "      <th>0</th>\n",
              "      <td>0</td>\n",
              "      <td>6</td>\n",
              "      <td>VRD - 1ST STAGE SUCTION COOLER</td>\n",
              "      <td>2861239574637735</td>\n",
              "      <td>0</td>\n",
              "      <td>{'ELC_STATUS_ID': '1211', 'RES_ID': '531306', ...</td>\n",
              "      <td>23-HA-9103</td>\n",
              "      <td>2513266419866445</td>\n",
              "      <td>[6687602007296940, 4650652196144007, 311145472...</td>\n",
              "    </tr>\n",
              "    <tr>\n",
              "      <th>1</th>\n",
              "      <td>0</td>\n",
              "      <td>7</td>\n",
              "      <td>VRD - PH 1STSTGSUCTCOOL SHELL PSV IN</td>\n",
              "      <td>274450897701725</td>\n",
              "      <td>0</td>\n",
              "      <td>{'ELC_STATUS_ID': '1225', 'RES_ID': '444134', ...</td>\n",
              "      <td>45-HV-92510-01</td>\n",
              "      <td>2861239574637735</td>\n",
              "      <td>[6687602007296940, 4650652196144007, 311145472...</td>\n",
              "    </tr>\n",
              "    <tr>\n",
              "      <th>2</th>\n",
              "      <td>0</td>\n",
              "      <td>7</td>\n",
              "      <td>VRD - PH 1STSTGSUCTCLR GAS IN</td>\n",
              "      <td>576308321452985</td>\n",
              "      <td>0</td>\n",
              "      <td>{'ELC_STATUS_ID': '1211', 'RES_ID': '609895', ...</td>\n",
              "      <td>23-ESDV-92501A</td>\n",
              "      <td>2861239574637735</td>\n",
              "      <td>[6687602007296940, 4650652196144007, 311145472...</td>\n",
              "    </tr>\n",
              "    <tr>\n",
              "      <th>3</th>\n",
              "      <td>0</td>\n",
              "      <td>7</td>\n",
              "      <td>VRD - PH 1STSTGSUCTCOOL SHELL PSV OUT</td>\n",
              "      <td>619750565594754</td>\n",
              "      <td>0</td>\n",
              "      <td>{'ELC_STATUS_ID': '1225', 'RES_ID': '510103', ...</td>\n",
              "      <td>45-HV-92510-03</td>\n",
              "      <td>2861239574637735</td>\n",
              "      <td>[6687602007296940, 4650652196144007, 311145472...</td>\n",
              "    </tr>\n",
              "    <tr>\n",
              "      <th>4</th>\n",
              "      <td>0</td>\n",
              "      <td>7</td>\n",
              "      <td>VRD - PH 1STSTGSUCTCOOL COOLMED OUT</td>\n",
              "      <td>705952550422793</td>\n",
              "      <td>0</td>\n",
              "      <td>{'ELC_STATUS_ID': '1211', 'RES_ID': '485917', ...</td>\n",
              "      <td>45-PT-92508</td>\n",
              "      <td>2861239574637735</td>\n",
              "      <td>[6687602007296940, 4650652196144007, 311145472...</td>\n",
              "    </tr>\n",
              "  </tbody>\n",
              "</table>\n",
              "</div>"
            ],
            "text/plain": [
              "   createdTime  depth                            description  \\\n",
              "0            0      6         VRD - 1ST STAGE SUCTION COOLER   \n",
              "1            0      7   VRD - PH 1STSTGSUCTCOOL SHELL PSV IN   \n",
              "2            0      7          VRD - PH 1STSTGSUCTCLR GAS IN   \n",
              "3            0      7  VRD - PH 1STSTGSUCTCOOL SHELL PSV OUT   \n",
              "4            0      7    VRD - PH 1STSTGSUCTCOOL COOLMED OUT   \n",
              "\n",
              "                 id  lastUpdatedTime  \\\n",
              "0  2861239574637735                0   \n",
              "1   274450897701725                0   \n",
              "2   576308321452985                0   \n",
              "3   619750565594754                0   \n",
              "4   705952550422793                0   \n",
              "\n",
              "                                            metadata            name  \\\n",
              "0  {'ELC_STATUS_ID': '1211', 'RES_ID': '531306', ...      23-HA-9103   \n",
              "1  {'ELC_STATUS_ID': '1225', 'RES_ID': '444134', ...  45-HV-92510-01   \n",
              "2  {'ELC_STATUS_ID': '1211', 'RES_ID': '609895', ...  23-ESDV-92501A   \n",
              "3  {'ELC_STATUS_ID': '1225', 'RES_ID': '510103', ...  45-HV-92510-03   \n",
              "4  {'ELC_STATUS_ID': '1211', 'RES_ID': '485917', ...     45-PT-92508   \n",
              "\n",
              "           parentId                                               path  \n",
              "0  2513266419866445  [6687602007296940, 4650652196144007, 311145472...  \n",
              "1  2861239574637735  [6687602007296940, 4650652196144007, 311145472...  \n",
              "2  2861239574637735  [6687602007296940, 4650652196144007, 311145472...  \n",
              "3  2861239574637735  [6687602007296940, 4650652196144007, 311145472...  \n",
              "4  2861239574637735  [6687602007296940, 4650652196144007, 311145472...  "
            ]
          },
          "metadata": {
            "tags": []
          },
          "execution_count": 6
        }
      ]
    },
    {
      "metadata": {
        "id": "KeCoOb_AWPv_",
        "colab_type": "text"
      },
      "cell_type": "markdown",
      "source": [
        "### Collecting Time Series Information and Data Points\n",
        "\n",
        "* Time Series objects contain the bulk of information in the CDP.\n",
        "\n",
        "* Time Series objects are generally linked to an asset through the asset_id field.\n",
        "\n",
        "* The *get_time_series()* method has a variety of filters, all are listed in the SDK.\n",
        "\n",
        "* By specifying **asset_id** we will get a dataframe of all the associated time series objects with that asset, this is seen below."
      ]
    },
    {
      "metadata": {
        "id": "oGg2xxBQUQUa",
        "colab_type": "text"
      },
      "cell_type": "markdown",
      "source": [
        "#### Compile a list of time series objects under the asset\n",
        "* For each of the children assets, get the associated time series objects and merge them into a DataFrame"
      ]
    },
    {
      "metadata": {
        "id": "2n-VPjJf6xum",
        "colab_type": "code",
        "outputId": "ab30978e-b564-49a9-b17d-2a4e4c531e40",
        "colab": {
          "base_uri": "https://localhost:8080/",
          "height": 421
        }
      },
      "cell_type": "code",
      "source": [
        "all_ts_df = pd.DataFrame()\n",
        "\n",
        "for index, asset in subtree_df.iterrows():\n",
        "  ts_df = client.time_series.get_time_series(asset_id=int(asset['id'])).to_pandas()\n",
        "  \n",
        "  if not ts_df.empty:\n",
        "    all_ts_df = all_ts_df.append(ts_df, ignore_index=True)\n",
        "    \n",
        "all_ts_df"
      ],
      "execution_count": 0,
      "outputs": [
        {
          "output_type": "execute_result",
          "data": {
            "text/html": [
              "<div>\n",
              "<style scoped>\n",
              "    .dataframe tbody tr th:only-of-type {\n",
              "        vertical-align: middle;\n",
              "    }\n",
              "\n",
              "    .dataframe tbody tr th {\n",
              "        vertical-align: top;\n",
              "    }\n",
              "\n",
              "    .dataframe thead th {\n",
              "        text-align: right;\n",
              "    }\n",
              "</style>\n",
              "<table border=\"1\" class=\"dataframe\">\n",
              "  <thead>\n",
              "    <tr style=\"text-align: right;\">\n",
              "      <th></th>\n",
              "      <th>assetId</th>\n",
              "      <th>createdTime</th>\n",
              "      <th>description</th>\n",
              "      <th>id</th>\n",
              "      <th>isStep</th>\n",
              "      <th>isString</th>\n",
              "      <th>lastUpdatedTime</th>\n",
              "      <th>name</th>\n",
              "    </tr>\n",
              "  </thead>\n",
              "  <tbody>\n",
              "    <tr>\n",
              "      <th>0</th>\n",
              "      <td>705952550422793</td>\n",
              "      <td>0</td>\n",
              "      <td>PH 1stStgSuctCool CoolMed Out</td>\n",
              "      <td>3529821833330815</td>\n",
              "      <td>False</td>\n",
              "      <td>False</td>\n",
              "      <td>0</td>\n",
              "      <td>VAL_45-PT-92508:X.Value</td>\n",
              "    </tr>\n",
              "    <tr>\n",
              "      <th>1</th>\n",
              "      <td>786220428505816</td>\n",
              "      <td>0</td>\n",
              "      <td>PH 1stStgSuctCool Gas In</td>\n",
              "      <td>3518012501014915</td>\n",
              "      <td>False</td>\n",
              "      <td>False</td>\n",
              "      <td>0</td>\n",
              "      <td>VAL_23-FT-92512:X.Value</td>\n",
              "    </tr>\n",
              "    <tr>\n",
              "      <th>2</th>\n",
              "      <td>2814662602621825</td>\n",
              "      <td>0</td>\n",
              "      <td>PH 1stStgSuctCool Gas In</td>\n",
              "      <td>6156871056679530</td>\n",
              "      <td>False</td>\n",
              "      <td>False</td>\n",
              "      <td>0</td>\n",
              "      <td>VAL_23-PT-92512:X.Value</td>\n",
              "    </tr>\n",
              "    <tr>\n",
              "      <th>3</th>\n",
              "      <td>4840206559741735</td>\n",
              "      <td>0</td>\n",
              "      <td>PH 1stStgSuctCool Gas In</td>\n",
              "      <td>5474031062875475</td>\n",
              "      <td>False</td>\n",
              "      <td>False</td>\n",
              "      <td>0</td>\n",
              "      <td>VAL_23-TT-92502:X.Value</td>\n",
              "    </tr>\n",
              "    <tr>\n",
              "      <th>4</th>\n",
              "      <td>5193727763959013</td>\n",
              "      <td>0</td>\n",
              "      <td>PH 1stStgSuctCool Gas Out</td>\n",
              "      <td>7491681405625794</td>\n",
              "      <td>False</td>\n",
              "      <td>False</td>\n",
              "      <td>0</td>\n",
              "      <td>VAL_23-PT-92504:X.Value</td>\n",
              "    </tr>\n",
              "    <tr>\n",
              "      <th>5</th>\n",
              "      <td>5439867226448359</td>\n",
              "      <td>0</td>\n",
              "      <td>PH 1stStgSuctCool Gas In</td>\n",
              "      <td>988967451935968</td>\n",
              "      <td>False</td>\n",
              "      <td>False</td>\n",
              "      <td>0</td>\n",
              "      <td>VAL_23-TT-92512:X.Value</td>\n",
              "    </tr>\n",
              "    <tr>\n",
              "      <th>6</th>\n",
              "      <td>5497674254221099</td>\n",
              "      <td>0</td>\n",
              "      <td>PH 1stStgSuctCool CoolMed In</td>\n",
              "      <td>1920137775628302</td>\n",
              "      <td>False</td>\n",
              "      <td>False</td>\n",
              "      <td>0</td>\n",
              "      <td>VAL_45-FT-92506:X.Value</td>\n",
              "    </tr>\n",
              "    <tr>\n",
              "      <th>7</th>\n",
              "      <td>5552927149248373</td>\n",
              "      <td>0</td>\n",
              "      <td>PH 1stStgSuctCool Gas In ESDV</td>\n",
              "      <td>5880632484472759</td>\n",
              "      <td>False</td>\n",
              "      <td>False</td>\n",
              "      <td>0</td>\n",
              "      <td>VAL_23-PDT-92501:X.Value</td>\n",
              "    </tr>\n",
              "    <tr>\n",
              "      <th>8</th>\n",
              "      <td>5891006566061532</td>\n",
              "      <td>0</td>\n",
              "      <td>PH 1stStgSuctClr CoolMed Out</td>\n",
              "      <td>3929156348065703</td>\n",
              "      <td>False</td>\n",
              "      <td>False</td>\n",
              "      <td>0</td>\n",
              "      <td>VAL_45-TT-92508:X.Value</td>\n",
              "    </tr>\n",
              "    <tr>\n",
              "      <th>9</th>\n",
              "      <td>6681756879590530</td>\n",
              "      <td>0</td>\n",
              "      <td>PH 1stStgSuctCool Tubes</td>\n",
              "      <td>7891376783606949</td>\n",
              "      <td>False</td>\n",
              "      <td>False</td>\n",
              "      <td>0</td>\n",
              "      <td>VAL_23-PDT-92502:X.Value</td>\n",
              "    </tr>\n",
              "    <tr>\n",
              "      <th>10</th>\n",
              "      <td>7390359759479147</td>\n",
              "      <td>0</td>\n",
              "      <td>PH 1stStgSuctClr CoolMed Sply</td>\n",
              "      <td>2288456938237513</td>\n",
              "      <td>False</td>\n",
              "      <td>False</td>\n",
              "      <td>0</td>\n",
              "      <td>VAL_45-TT-92506:X.Value</td>\n",
              "    </tr>\n",
              "    <tr>\n",
              "      <th>11</th>\n",
              "      <td>7835659687560027</td>\n",
              "      <td>0</td>\n",
              "      <td>PH 1stStgSuctCool Shell</td>\n",
              "      <td>1804879717768950</td>\n",
              "      <td>False</td>\n",
              "      <td>False</td>\n",
              "      <td>0</td>\n",
              "      <td>VAL_45-PDT-92506:X.Value</td>\n",
              "    </tr>\n",
              "  </tbody>\n",
              "</table>\n",
              "</div>"
            ],
            "text/plain": [
              "             assetId  createdTime                    description  \\\n",
              "0    705952550422793            0  PH 1stStgSuctCool CoolMed Out   \n",
              "1    786220428505816            0       PH 1stStgSuctCool Gas In   \n",
              "2   2814662602621825            0       PH 1stStgSuctCool Gas In   \n",
              "3   4840206559741735            0       PH 1stStgSuctCool Gas In   \n",
              "4   5193727763959013            0      PH 1stStgSuctCool Gas Out   \n",
              "5   5439867226448359            0       PH 1stStgSuctCool Gas In   \n",
              "6   5497674254221099            0   PH 1stStgSuctCool CoolMed In   \n",
              "7   5552927149248373            0  PH 1stStgSuctCool Gas In ESDV   \n",
              "8   5891006566061532            0   PH 1stStgSuctClr CoolMed Out   \n",
              "9   6681756879590530            0        PH 1stStgSuctCool Tubes   \n",
              "10  7390359759479147            0  PH 1stStgSuctClr CoolMed Sply   \n",
              "11  7835659687560027            0        PH 1stStgSuctCool Shell   \n",
              "\n",
              "                  id  isStep  isString  lastUpdatedTime  \\\n",
              "0   3529821833330815   False     False                0   \n",
              "1   3518012501014915   False     False                0   \n",
              "2   6156871056679530   False     False                0   \n",
              "3   5474031062875475   False     False                0   \n",
              "4   7491681405625794   False     False                0   \n",
              "5    988967451935968   False     False                0   \n",
              "6   1920137775628302   False     False                0   \n",
              "7   5880632484472759   False     False                0   \n",
              "8   3929156348065703   False     False                0   \n",
              "9   7891376783606949   False     False                0   \n",
              "10  2288456938237513   False     False                0   \n",
              "11  1804879717768950   False     False                0   \n",
              "\n",
              "                        name  \n",
              "0    VAL_45-PT-92508:X.Value  \n",
              "1    VAL_23-FT-92512:X.Value  \n",
              "2    VAL_23-PT-92512:X.Value  \n",
              "3    VAL_23-TT-92502:X.Value  \n",
              "4    VAL_23-PT-92504:X.Value  \n",
              "5    VAL_23-TT-92512:X.Value  \n",
              "6    VAL_45-FT-92506:X.Value  \n",
              "7   VAL_23-PDT-92501:X.Value  \n",
              "8    VAL_45-TT-92508:X.Value  \n",
              "9   VAL_23-PDT-92502:X.Value  \n",
              "10   VAL_45-TT-92506:X.Value  \n",
              "11  VAL_45-PDT-92506:X.Value  "
            ]
          },
          "metadata": {
            "tags": []
          },
          "execution_count": 7
        }
      ]
    },
    {
      "metadata": {
        "id": "YIejfGjYWwNY",
        "colab_type": "text"
      },
      "cell_type": "markdown",
      "source": [
        "#### View datapoints for one of the time series\n",
        "\n",
        "* Now that we have a list of all of the time series directly related to the immediete childern of our asset, we can retrieve datapoints for some of the them.\n",
        "\n",
        "* A Datapoint in the CDP is stored as a key value pair\n",
        "\n",
        "  * timestamp is the time since epoch in milliseconds\n",
        "  \n",
        "  * value is the reading from the sensor\n",
        "  \n",
        "The identifier to retrieve Datapoints is the **name** column from the DataFrame above."
      ]
    },
    {
      "metadata": {
        "id": "d4wYaEyJWtrq",
        "colab_type": "code",
        "outputId": "56154ec4-d626-4022-e145-a557f9b9f79f",
        "colab": {
          "base_uri": "https://localhost:8080/",
          "height": 204
        }
      },
      "cell_type": "code",
      "source": [
        "client.datapoints.get_datapoints(\"VAL_45-PT-92508:X.Value\", start=\"10d-ago\").to_pandas().head()"
      ],
      "execution_count": 0,
      "outputs": [
        {
          "output_type": "execute_result",
          "data": {
            "text/html": [
              "<div>\n",
              "<style scoped>\n",
              "    .dataframe tbody tr th:only-of-type {\n",
              "        vertical-align: middle;\n",
              "    }\n",
              "\n",
              "    .dataframe tbody tr th {\n",
              "        vertical-align: top;\n",
              "    }\n",
              "\n",
              "    .dataframe thead th {\n",
              "        text-align: right;\n",
              "    }\n",
              "</style>\n",
              "<table border=\"1\" class=\"dataframe\">\n",
              "  <thead>\n",
              "    <tr style=\"text-align: right;\">\n",
              "      <th></th>\n",
              "      <th>timestamp</th>\n",
              "      <th>value</th>\n",
              "    </tr>\n",
              "  </thead>\n",
              "  <tbody>\n",
              "    <tr>\n",
              "      <th>0</th>\n",
              "      <td>1548700082363</td>\n",
              "      <td>2.184436</td>\n",
              "    </tr>\n",
              "    <tr>\n",
              "      <th>1</th>\n",
              "      <td>1548700083363</td>\n",
              "      <td>2.188586</td>\n",
              "    </tr>\n",
              "    <tr>\n",
              "      <th>2</th>\n",
              "      <td>1548700084363</td>\n",
              "      <td>2.189624</td>\n",
              "    </tr>\n",
              "    <tr>\n",
              "      <th>3</th>\n",
              "      <td>1548700085363</td>\n",
              "      <td>2.187549</td>\n",
              "    </tr>\n",
              "    <tr>\n",
              "      <th>4</th>\n",
              "      <td>1548700086363</td>\n",
              "      <td>2.188586</td>\n",
              "    </tr>\n",
              "  </tbody>\n",
              "</table>\n",
              "</div>"
            ],
            "text/plain": [
              "       timestamp     value\n",
              "0  1548700082363  2.184436\n",
              "1  1548700083363  2.188586\n",
              "2  1548700084363  2.189624\n",
              "3  1548700085363  2.187549\n",
              "4  1548700086363  2.188586"
            ]
          },
          "metadata": {
            "tags": []
          },
          "execution_count": 8
        }
      ]
    },
    {
      "metadata": {
        "id": "S3fBvnnKL3ii",
        "colab_type": "text"
      },
      "cell_type": "markdown",
      "source": [
        "## Practical use case of the data in the CDP\n",
        "\n",
        "* When gathering data from oil platforms, specific sensors can be very expensive to install and maintain.\n",
        "\n",
        "* A technique often used it to use a combination of other sensor readings to predict another.\n",
        "\n",
        "* The rest of the notebook will be used to retrieve data and create the model."
      ]
    },
    {
      "metadata": {
        "id": "mLJBe0WuWKDq",
        "colab_type": "text"
      },
      "cell_type": "markdown",
      "source": [
        "#### Collect datapoints from CDP\n",
        "\n",
        "* The following 4 columns were chosen in an effort to estimate the output pressure of the suction cooler\n",
        "\n",
        "* Input variables:\n",
        "\n",
        "  * FT: Input Flow Rate\n",
        "  \n",
        "  * PT: Input Pressure\n",
        "  \n",
        "  * TT: Input Temperature\n",
        "  \n",
        "* Output variables:\n",
        "\n",
        "  * Output *Pressure* \n",
        "  \n",
        "The time series names are defined in the *in_ts_names* and *out_ts_names* lists below.\n",
        "\n",
        "\n",
        "#### Aside: Cool exercise when the introduction is completed!!!\n",
        "\n",
        "* Add/Delete input time series or change the output and see how the predictions and results change!\n",
        "\n",
        "  * This can be done \n",
        "\n",
        "  "
      ]
    },
    {
      "metadata": {
        "id": "l4-C138i-HBy",
        "colab_type": "code",
        "outputId": "786728cc-1f40-417d-8a5e-b8dceb6cefd4",
        "colab": {
          "base_uri": "https://localhost:8080/",
          "height": 34
        }
      },
      "cell_type": "code",
      "source": [
        "in_ts_names = [\"VAL_23-FT-92512:X.Value\", \"VAL_23-PT-92512:X.Value\", \"VAL_23-TT-92502:X.Value\"]\n",
        "out_ts_name = \"VAL_23-PT-92504:X.Value\"\n"
      ],
      "execution_count": 0,
      "outputs": [
        {
          "output_type": "stream",
          "text": [
            "['VAL_23-FT-92512:X.Value', 'VAL_23-PT-92512:X.Value', 'VAL_23-TT-92502:X.Value', 'VAL_23-PT-92504:X.Value']\n"
          ],
          "name": "stdout"
        }
      ]
    },
    {
      "metadata": {
        "id": "lvr3qJp_OQgF",
        "colab_type": "text"
      },
      "cell_type": "markdown",
      "source": [
        "#### Retrieve Data Points from CDP\n",
        "\n",
        "* Datapoints are returned in a pandas dataframe using the method *get_datapoints_frame()*, [documentation](https://cognite-sdk-python.readthedocs-hosted.com/en/latest/cognite.html#cognite.client.stable.datapoints.DatapointsClient.get_datapoints_frame).\n",
        "\n",
        "* The advantage of using this method over *get_datapoints()* is that the data is aggregated to a common timestamp. The processing is taken care of in the API.\n",
        "\n",
        "  * The common timestep is assigned using *granularity* argument. In this case, 1 minute was chosen.\n",
        " \n",
        "Also performed is a step to rename the columns to their original, as the get_datapoints_frame method adds suffixes based on the aggregate."
      ]
    },
    {
      "metadata": {
        "id": "I1qoX1WY-HEV",
        "colab_type": "code",
        "outputId": "a1af8ea6-62f5-4aea-e482-9610c222a3af",
        "colab": {
          "base_uri": "https://localhost:8080/",
          "height": 204
        }
      },
      "cell_type": "code",
      "source": [
        "ts_names = in_ts_names + [out_ts_name]\n",
        "\n",
        "train_start_date = datetime(2018, 8, 1)\n",
        "# 30 days of training data chosen arbitrarily\n",
        "train_end_date = train_start_date + timedelta(days=30)\n",
        "\n",
        "datapoints_df = client.datapoints.get_datapoints_frame(time_series=ts_names,\n",
        "                                                       aggregates=['avg'],\n",
        "                                                       granularity='1m',\n",
        "                                                       start=train_start_date,\n",
        "                                                       end=train_end_date\n",
        "                                                       )\n",
        "# Remove the \"|average\" appended to the end of the column names\n",
        "datapoints_df.columns = [\"timestamp\"] + ts_names\n",
        "datapoints_df.head()"
      ],
      "execution_count": 0,
      "outputs": [
        {
          "output_type": "execute_result",
          "data": {
            "text/html": [
              "<div>\n",
              "<style scoped>\n",
              "    .dataframe tbody tr th:only-of-type {\n",
              "        vertical-align: middle;\n",
              "    }\n",
              "\n",
              "    .dataframe tbody tr th {\n",
              "        vertical-align: top;\n",
              "    }\n",
              "\n",
              "    .dataframe thead th {\n",
              "        text-align: right;\n",
              "    }\n",
              "</style>\n",
              "<table border=\"1\" class=\"dataframe\">\n",
              "  <thead>\n",
              "    <tr style=\"text-align: right;\">\n",
              "      <th></th>\n",
              "      <th>timestamp</th>\n",
              "      <th>VAL_23-FT-92512:X.Value</th>\n",
              "      <th>VAL_23-PT-92512:X.Value</th>\n",
              "      <th>VAL_23-TT-92502:X.Value</th>\n",
              "      <th>VAL_23-PT-92504:X.Value</th>\n",
              "    </tr>\n",
              "  </thead>\n",
              "  <tbody>\n",
              "    <tr>\n",
              "      <th>0</th>\n",
              "      <td>1533081600000</td>\n",
              "      <td>91120.918480</td>\n",
              "      <td>3.374376</td>\n",
              "      <td>44.184863</td>\n",
              "      <td>3.251437</td>\n",
              "    </tr>\n",
              "    <tr>\n",
              "      <th>1</th>\n",
              "      <td>1533081660000</td>\n",
              "      <td>86259.975220</td>\n",
              "      <td>3.395966</td>\n",
              "      <td>44.232420</td>\n",
              "      <td>3.274299</td>\n",
              "    </tr>\n",
              "    <tr>\n",
              "      <th>2</th>\n",
              "      <td>1533081720000</td>\n",
              "      <td>90750.665657</td>\n",
              "      <td>3.410101</td>\n",
              "      <td>44.161438</td>\n",
              "      <td>3.287578</td>\n",
              "    </tr>\n",
              "    <tr>\n",
              "      <th>3</th>\n",
              "      <td>1533081780000</td>\n",
              "      <td>91948.525170</td>\n",
              "      <td>3.358822</td>\n",
              "      <td>43.986025</td>\n",
              "      <td>3.237081</td>\n",
              "    </tr>\n",
              "    <tr>\n",
              "      <th>4</th>\n",
              "      <td>1533081840000</td>\n",
              "      <td>93779.111997</td>\n",
              "      <td>3.429458</td>\n",
              "      <td>43.797913</td>\n",
              "      <td>3.306391</td>\n",
              "    </tr>\n",
              "  </tbody>\n",
              "</table>\n",
              "</div>"
            ],
            "text/plain": [
              "       timestamp  VAL_23-FT-92512:X.Value  VAL_23-PT-92512:X.Value  \\\n",
              "0  1533081600000             91120.918480                 3.374376   \n",
              "1  1533081660000             86259.975220                 3.395966   \n",
              "2  1533081720000             90750.665657                 3.410101   \n",
              "3  1533081780000             91948.525170                 3.358822   \n",
              "4  1533081840000             93779.111997                 3.429458   \n",
              "\n",
              "   VAL_23-TT-92502:X.Value  VAL_23-PT-92504:X.Value  \n",
              "0                44.184863                 3.251437  \n",
              "1                44.232420                 3.274299  \n",
              "2                44.161438                 3.287578  \n",
              "3                43.986025                 3.237081  \n",
              "4                43.797913                 3.306391  "
            ]
          },
          "metadata": {
            "tags": []
          },
          "execution_count": 11
        }
      ]
    },
    {
      "metadata": {
        "id": "cg63RY4MP1Sv",
        "colab_type": "text"
      },
      "cell_type": "markdown",
      "source": [
        "#### Visualize the Time Series data\n",
        "* Utilize matplotlib to visualize each of the time series plots\n",
        "\n",
        "The bottom right plot is the output time series, while the other 3 are the inputs used to create an estimate for the output."
      ]
    },
    {
      "metadata": {
        "id": "m3F0ZbBBDDB6",
        "colab_type": "code",
        "outputId": "4767616c-90b9-4e74-aef1-c1e49f034082",
        "colab": {
          "base_uri": "https://localhost:8080/",
          "height": 879
        }
      },
      "cell_type": "code",
      "source": [
        "cols = list(datapoints_df.columns)\n",
        "cols.remove('timestamp')\n",
        "\n",
        "fig, axes = plt.subplots(nrows=2, ncols=2, figsize=(15,15))\n",
        "for i, col in enumerate(cols):\n",
        "  datapoints_df.plot(x='timestamp', y=col, ax=axes[int(i>1), i%2]);"
      ],
      "execution_count": 0,
      "outputs": [
        {
          "output_type": "display_data",
          "data": {
            "image/png": "[encoded data removed]",
            "text/plain": [
              "<Figure size 1080x1080 with 4 Axes>"
            ]
          },
          "metadata": {
            "tags": []
          }
        }
      ]
    },
    {
      "metadata": {
        "id": "-TPMQNJmQbEh",
        "colab_type": "text"
      },
      "cell_type": "markdown",
      "source": [
        "# Construct a model\n"
      ]
    },
    {
      "metadata": {
        "id": "GxVhJGMTQwv-",
        "colab_type": "text"
      },
      "cell_type": "markdown",
      "source": [
        "### Gather the training data using the data from the figures above"
      ]
    },
    {
      "metadata": {
        "id": "dcAhxWwVN08Q",
        "colab_type": "code",
        "colab": {}
      },
      "cell_type": "code",
      "source": [
        "train_X = datapoints_df[in_ts_names].values\n",
        "train_y = datapoints_df[out_ts_name].values"
      ],
      "execution_count": 0,
      "outputs": []
    },
    {
      "metadata": {
        "id": "TTJ7oms6NK8n",
        "colab_type": "text"
      },
      "cell_type": "markdown",
      "source": [
        "### Get a seperate DataFrame from CDP for predictions\n",
        "\n",
        "* The data which we will use to predict the output pressure will be stored in a seperate dataframe as collected below."
      ]
    },
    {
      "metadata": {
        "id": "B6md7J82NKTI",
        "colab_type": "code",
        "outputId": "e88c0e43-114c-4a2b-fc30-cba56452423d",
        "colab": {
          "base_uri": "https://localhost:8080/",
          "height": 204
        }
      },
      "cell_type": "code",
      "source": [
        "predict_start_date = train_end_date\n",
        "# Make the prediction on 1 hour of data\n",
        "predict_end_date = train_end_date + timedelta(hours=1)\n",
        "\n",
        "predict_df = client.datapoints.get_datapoints_frame(time_series=ts_names,\n",
        "                                                       aggregates=['avg'],\n",
        "                                                       granularity='1m',\n",
        "                                                       start=predict_start_date,\n",
        "                                                       end=predict_end_date\n",
        "                                                       )\n",
        "predict_df.columns = [\"timestamp\"] + ts_names\n",
        "predict_df = predict_df.fillna(method='ffill')\n",
        "predict_df.head()"
      ],
      "execution_count": 0,
      "outputs": [
        {
          "output_type": "execute_result",
          "data": {
            "text/html": [
              "<div>\n",
              "<style scoped>\n",
              "    .dataframe tbody tr th:only-of-type {\n",
              "        vertical-align: middle;\n",
              "    }\n",
              "\n",
              "    .dataframe tbody tr th {\n",
              "        vertical-align: top;\n",
              "    }\n",
              "\n",
              "    .dataframe thead th {\n",
              "        text-align: right;\n",
              "    }\n",
              "</style>\n",
              "<table border=\"1\" class=\"dataframe\">\n",
              "  <thead>\n",
              "    <tr style=\"text-align: right;\">\n",
              "      <th></th>\n",
              "      <th>timestamp</th>\n",
              "      <th>VAL_23-FT-92512:X.Value</th>\n",
              "      <th>VAL_23-PT-92512:X.Value</th>\n",
              "      <th>VAL_23-TT-92502:X.Value</th>\n",
              "      <th>VAL_23-PT-92504:X.Value</th>\n",
              "    </tr>\n",
              "  </thead>\n",
              "  <tbody>\n",
              "    <tr>\n",
              "      <th>0</th>\n",
              "      <td>1535673600000</td>\n",
              "      <td>96596.397652</td>\n",
              "      <td>3.390761</td>\n",
              "      <td>44.822433</td>\n",
              "      <td>3.266866</td>\n",
              "    </tr>\n",
              "    <tr>\n",
              "      <th>1</th>\n",
              "      <td>1535673660000</td>\n",
              "      <td>92941.748459</td>\n",
              "      <td>3.382212</td>\n",
              "      <td>44.879119</td>\n",
              "      <td>3.259393</td>\n",
              "    </tr>\n",
              "    <tr>\n",
              "      <th>2</th>\n",
              "      <td>1535673720000</td>\n",
              "      <td>100634.003031</td>\n",
              "      <td>3.477319</td>\n",
              "      <td>45.053927</td>\n",
              "      <td>3.348573</td>\n",
              "    </tr>\n",
              "    <tr>\n",
              "      <th>3</th>\n",
              "      <td>1535673780000</td>\n",
              "      <td>103948.895082</td>\n",
              "      <td>3.434556</td>\n",
              "      <td>45.404786</td>\n",
              "      <td>3.305596</td>\n",
              "    </tr>\n",
              "    <tr>\n",
              "      <th>4</th>\n",
              "      <td>1535673840000</td>\n",
              "      <td>101079.342794</td>\n",
              "      <td>3.348590</td>\n",
              "      <td>45.698323</td>\n",
              "      <td>3.222974</td>\n",
              "    </tr>\n",
              "  </tbody>\n",
              "</table>\n",
              "</div>"
            ],
            "text/plain": [
              "       timestamp  VAL_23-FT-92512:X.Value  VAL_23-PT-92512:X.Value  \\\n",
              "0  1535673600000             96596.397652                 3.390761   \n",
              "1  1535673660000             92941.748459                 3.382212   \n",
              "2  1535673720000            100634.003031                 3.477319   \n",
              "3  1535673780000            103948.895082                 3.434556   \n",
              "4  1535673840000            101079.342794                 3.348590   \n",
              "\n",
              "   VAL_23-TT-92502:X.Value  VAL_23-PT-92504:X.Value  \n",
              "0                44.822433                 3.266866  \n",
              "1                44.879119                 3.259393  \n",
              "2                45.053927                 3.348573  \n",
              "3                45.404786                 3.305596  \n",
              "4                45.698323                 3.222974  "
            ]
          },
          "metadata": {
            "tags": []
          },
          "execution_count": 16
        }
      ]
    },
    {
      "metadata": {
        "id": "DGxBny7gNXFZ",
        "colab_type": "text"
      },
      "cell_type": "markdown",
      "source": [
        "## Linear Regression Model\n",
        "\n",
        "* As a simple starting point we will check to see how a linear regression model performs to predict the output pressure"
      ]
    },
    {
      "metadata": {
        "id": "vho0ucbfR1ms",
        "colab_type": "text"
      },
      "cell_type": "markdown",
      "source": [
        "### Utilize *sklearn*  to create a basic linear regression model\n",
        "\n",
        "* Sklearn is common package utilized to import and deploy data science models. Linear Regression is only 1 of many options for constructing models."
      ]
    },
    {
      "metadata": {
        "id": "bDsh5JRvE4jc",
        "colab_type": "code",
        "outputId": "d8d13cdf-5b39-4204-fca9-3a4ba1a4cfd3",
        "colab": {
          "base_uri": "https://localhost:8080/",
          "height": 660
        }
      },
      "cell_type": "code",
      "source": [
        "lin_reg = LinearRegression()\n",
        "lin_reg.fit(train_X, train_y)\n",
        "\n",
        "X = predict_df[in_ts_names].values\n",
        "predict_df[\"prediction\"] = lin_reg.predict(X)\n",
        "\n",
        "predict_df.plot(x=\"timestamp\", y=[out_ts_name, \"prediction\"], figsize=(10,10));"
      ],
      "execution_count": 0,
      "outputs": [
        {
          "output_type": "stream",
          "text": [
            "/usr/local/lib/python3.6/dist-packages/pandas/plotting/_core.py:1716: UserWarning: Pandas doesn't allow columns to be created via a new attribute name - see https://pandas.pydata.org/pandas-docs/stable/indexing.html#attribute-access\n",
            "  series.name = label\n"
          ],
          "name": "stderr"
        },
        {
          "output_type": "display_data",
          "data": {
            "image/png": "[encoded data removed]",
            "text/plain": [
              "<Figure size 720x720 with 1 Axes>"
            ]
          },
          "metadata": {
            "tags": []
          }
        }
      ]
    },
    {
      "metadata": {
        "id": "bYbcseRys6mo",
        "colab_type": "text"
      },
      "cell_type": "markdown",
      "source": [
        "### Results\n",
        "\n",
        "* As seen in the above image, the Linear Regression model did not do a great job in predicting the pressure output.\n",
        "\n",
        "* It is normal for the first model in a data science project to not perform as expected, there is a lot we can do to improve the results!"
      ]
    },
    {
      "metadata": {
        "id": "d21kj8CWNpNN",
        "colab_type": "text"
      },
      "cell_type": "markdown",
      "source": [
        "## Possible next steps???\n",
        "\n",
        "1. Use a different model in an attempt to get better results in the pressure prediction.\n",
        "\n",
        "2. Using a different asset from the [Op Int ](https://opint.cogniteapp.com/publicdata/infographics/-LOHKEJPLvt0eRIZu8mE) dashboard, gather time series similar to it was done here, and create plots to visualize the data.\n",
        "\n",
        "3. Find the asset which has the greatest/least variance in sensor readings.\n",
        "\n",
        "4. Any other cool findings, creativity is encouraged!"
      ]
    }
  ]
}