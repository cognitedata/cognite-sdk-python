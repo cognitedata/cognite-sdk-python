{
 "cells": [
  {
   "cell_type": "code",
   "execution_count": 1,
   "metadata": {},
   "outputs": [],
   "source": [
    "from os import environ, path\n",
    "from random import choices\n",
    "import string\n",
    "from subprocess import check_call\n",
    "from io import StringIO\n",
    "\n",
    "import pandas as pd\n",
    "import requests\n",
    "\n",
    "from cognite.config import configure_session\n",
    "from cognite.v05 import files\n",
    "from cognite.v06.analytics import models\n",
    "from cognite.data_transfer_service import DataSpec, FilesDataSpec\n",
    "\n",
    "# Make sure to set your API key and porject\n",
    "API_KEY = \"<YOUR-API-KEY>\"\n",
    "PROJECT = \"<YOUR-PROJECT>\"\n",
    "configure_session(api_key=API_KEY, project=PROJECT)\n",
    "\n",
    "# We'll prepend all resources we make with this random string\n",
    "# to avoid collision with others that try this tutorial\n",
    "random_postfix = \"\".join(choices(string.ascii_lowercase+string.digits, k=6))"
   ]
  },
  {
   "cell_type": "markdown",
   "metadata": {},
   "source": [
    "# Introduction\n",
    "\n",
    "For this tutorial we will train a very simple linear regression model which predicts one value given two features.\n",
    "This example is unrealistically simple and trivial on purpose to give more attention to Model Hosting.\n",
    "\n",
    "We have some training data in the two files `data.csv` and `target.csv`.\n",
    "The goal is to train a linear regression model that we can use to do prediction on new observed features.\n",
    "\n",
    "Let's first take a look at the data"
   ]
  },
  {
   "cell_type": "code",
   "execution_count": 2,
   "metadata": {},
   "outputs": [
    {
     "data": {
      "text/html": [
       "<div>\n",
       "<style scoped>\n",
       "    .dataframe tbody tr th:only-of-type {\n",
       "        vertical-align: middle;\n",
       "    }\n",
       "\n",
       "    .dataframe tbody tr th {\n",
       "        vertical-align: top;\n",
       "    }\n",
       "\n",
       "    .dataframe thead th {\n",
       "        text-align: right;\n",
       "    }\n",
       "</style>\n",
       "<table border=\"1\" class=\"dataframe\">\n",
       "  <thead>\n",
       "    <tr style=\"text-align: right;\">\n",
       "      <th></th>\n",
       "      <th>f1</th>\n",
       "      <th>f2</th>\n",
       "    </tr>\n",
       "  </thead>\n",
       "  <tbody>\n",
       "    <tr>\n",
       "      <th>0</th>\n",
       "      <td>1</td>\n",
       "      <td>2</td>\n",
       "    </tr>\n",
       "    <tr>\n",
       "      <th>1</th>\n",
       "      <td>2</td>\n",
       "      <td>4</td>\n",
       "    </tr>\n",
       "    <tr>\n",
       "      <th>2</th>\n",
       "      <td>4</td>\n",
       "      <td>3</td>\n",
       "    </tr>\n",
       "    <tr>\n",
       "      <th>3</th>\n",
       "      <td>3</td>\n",
       "      <td>1</td>\n",
       "    </tr>\n",
       "    <tr>\n",
       "      <th>4</th>\n",
       "      <td>0</td>\n",
       "      <td>5</td>\n",
       "    </tr>\n",
       "    <tr>\n",
       "      <th>5</th>\n",
       "      <td>2</td>\n",
       "      <td>2</td>\n",
       "    </tr>\n",
       "  </tbody>\n",
       "</table>\n",
       "</div>"
      ],
      "text/plain": [
       "   f1  f2\n",
       "0   1   2\n",
       "1   2   4\n",
       "2   4   3\n",
       "3   3   1\n",
       "4   0   5\n",
       "5   2   2"
      ]
     },
     "execution_count": 2,
     "metadata": {},
     "output_type": "execute_result"
    }
   ],
   "source": [
    "pd.read_csv(\"data.csv\")"
   ]
  },
  {
   "cell_type": "code",
   "execution_count": 3,
   "metadata": {},
   "outputs": [
    {
     "data": {
      "text/html": [
       "<div>\n",
       "<style scoped>\n",
       "    .dataframe tbody tr th:only-of-type {\n",
       "        vertical-align: middle;\n",
       "    }\n",
       "\n",
       "    .dataframe tbody tr th {\n",
       "        vertical-align: top;\n",
       "    }\n",
       "\n",
       "    .dataframe thead th {\n",
       "        text-align: right;\n",
       "    }\n",
       "</style>\n",
       "<table border=\"1\" class=\"dataframe\">\n",
       "  <thead>\n",
       "    <tr style=\"text-align: right;\">\n",
       "      <th></th>\n",
       "      <th>y</th>\n",
       "    </tr>\n",
       "  </thead>\n",
       "  <tbody>\n",
       "    <tr>\n",
       "      <th>0</th>\n",
       "      <td>15</td>\n",
       "    </tr>\n",
       "    <tr>\n",
       "      <th>1</th>\n",
       "      <td>20</td>\n",
       "    </tr>\n",
       "    <tr>\n",
       "      <th>2</th>\n",
       "      <td>25</td>\n",
       "    </tr>\n",
       "    <tr>\n",
       "      <th>3</th>\n",
       "      <td>20</td>\n",
       "    </tr>\n",
       "    <tr>\n",
       "      <th>4</th>\n",
       "      <td>15</td>\n",
       "    </tr>\n",
       "    <tr>\n",
       "      <th>5</th>\n",
       "      <td>18</td>\n",
       "    </tr>\n",
       "  </tbody>\n",
       "</table>\n",
       "</div>"
      ],
      "text/plain": [
       "    y\n",
       "0  15\n",
       "1  20\n",
       "2  25\n",
       "3  20\n",
       "4  15\n",
       "5  18"
      ]
     },
     "execution_count": 3,
     "metadata": {},
     "output_type": "execute_result"
    }
   ],
   "source": [
    "pd.read_csv(\"target.csv\")"
   ]
  },
  {
   "cell_type": "markdown",
   "metadata": {},
   "source": [
    "Actually, our training data are so that `y = 10 + 3*f1 + f2`, so a linear regression model should be able to fit this perfectly."
   ]
  },
  {
   "cell_type": "markdown",
   "metadata": {},
   "source": [
    "# 0. Upload data to CDP\n",
    "\n",
    "Often, the data you need will already be available in CDP (Cognite Data Platform).\n",
    "But since this is just some dummy data we will have to upload it first.\n",
    "We'll simply upload it through the Files API:"
   ]
  },
  {
   "cell_type": "code",
   "execution_count": 4,
   "metadata": {
    "scrolled": false
   },
   "outputs": [],
   "source": [
    "data_file_id = files.upload_file(\n",
    "    file_path=\"data.csv\",\n",
    "    file_name=\"data.csv\",\n",
    "    directory=f\"hosting-tutorial/{random_postfix}\",\n",
    "    content_type=\"text/csv\"\n",
    ")[\"fileId\"]\n",
    "target_file_id = files.upload_file(\n",
    "    file_path=\"target.csv\",\n",
    "    file_name=\"target.csv\",\n",
    "    directory=f\"hosting-tutorial/{random_postfix}\",\n",
    "    content_type=\"text/csv\"\n",
    ")[\"fileId\"]"
   ]
  },
  {
   "cell_type": "markdown",
   "metadata": {},
   "source": [
    "# 1. Write the code\n",
    "\n",
    "The first thing we need to do is write the code for our model.\n",
    "We do this by creating a Python package.\n",
    "Our package is named `linreg` and can be found in a folder with the same name.\n",
    "It's just a regular Python package that are pip-installable.\n",
    "\n",
    "It's required that your model resides in a class named Model, and that this class is inside a module (i.e. file) named model (model.py). You can read more about this in the docs.\n",
    "Notice that our requirements (packages that our model needs) are defined in `setup.py`."
   ]
  },
  {
   "cell_type": "markdown",
   "metadata": {},
   "source": [
    "# 2. Create a source package\n",
    "\n",
    "Before we use our code in Model Hosting we have to upload it.\n",
    "In Model Hosting, a Python package that defines a model is called a source package.\n",
    "\n",
    "We first package our code in a tar.gz archive:"
   ]
  },
  {
   "cell_type": "code",
   "execution_count": 5,
   "metadata": {},
   "outputs": [
    {
     "data": {
      "text/plain": [
       "True"
      ]
     },
     "execution_count": 5,
     "metadata": {},
     "output_type": "execute_result"
    }
   ],
   "source": [
    "# Will create a linreg-0.1.tar.gz archive\n",
    "check_call([\"python\", \"setup.py\", \"sdist\"], cwd=\"linreg\")\n",
    "path.exists(\"linreg/dist/linreg-0.1.tar.gz\")"
   ]
  },
  {
   "cell_type": "markdown",
   "metadata": {},
   "source": [
    "And then we can upload it and create a new source package"
   ]
  },
  {
   "cell_type": "code",
   "execution_count": 6,
   "metadata": {},
   "outputs": [],
   "source": [
    "source_package_id = models.create_source_package(\n",
    "    name=f\"linreg-v01-{random_postfix}\",\n",
    "    package_name=\"linreg\",\n",
    "    available_operations=[\"TRAIN\", \"PREDICT\"],\n",
    "    runtime_version=\"0.1\",\n",
    "    description=\"Some description\", # Optional\n",
    "    meta_data={\"interesting-metadata\": [1, 2, 3]}, # Optional (can be arbitrary JSON)\n",
    "    file_path=\"linreg/dist/linreg-0.1.tar.gz\"\n",
    ")[\"id\"]"
   ]
  },
  {
   "cell_type": "markdown",
   "metadata": {},
   "source": [
    "# 3. Create a model\n",
    "\n",
    "A model in Model Hosting is an abstract resource that can consist of any number of model versions.\n",
    "So before we create and train a specific model version, we need to have a model that will act as a parent container. You can read more about this in the docs."
   ]
  },
  {
   "cell_type": "code",
   "execution_count": 7,
   "metadata": {},
   "outputs": [],
   "source": [
    "model_id = models.create_model(\n",
    "    name=f\"tutorial-model-{random_postfix}\",\n",
    "    description=\"Some description\", # Optional\n",
    "    metadata={\"interesting-metadata\": [1, 2, 3]}, # Optional (can be arbitrary JSON)\n",
    ")[\"id\"]"
   ]
  },
  {
   "cell_type": "markdown",
   "metadata": {},
   "source": [
    "# 4. Create and train a model version\n",
    "\n",
    "A model version is a specific instance that is trained and can do prediction.\n",
    "It uses some source package that you have created earlier and resides under some model.\n",
    "\n",
    "We will pass in a data spec as an argument to the training routine to specify our training data.\n",
    "In this tutorial, it's simply the two files we uploaded earlier."
   ]
  },
  {
   "cell_type": "code",
   "execution_count": 8,
   "metadata": {},
   "outputs": [],
   "source": [
    "version_id = models.train_model_version(\n",
    "    model_id=model_id,\n",
    "    name=f\"tutorial-model-version-{random_postfix}\",\n",
    "    source_package_id=source_package_id,\n",
    "    description=\"Some description\", # Optional\n",
    "    metadata={\"interesting-metadata\": [1, 2, 3]}, # Optional (can be arbitrary JSON)\n",
    "    args={\n",
    "        \"data_spec\": DataSpec(files_data_spec=FilesDataSpec(file_ids={\n",
    "            \"data\": data_file_id,\n",
    "            \"target\": target_file_id\n",
    "        })).to_JSON()\n",
    "    }\n",
    ")[\"id\"]"
   ]
  },
  {
   "cell_type": "markdown",
   "metadata": {},
   "source": [
    "Now we just have to wait for our model to be trained and deployed.\n",
    "We can check the status until its 'READY' (this will take several minutes).\n",
    "\n",
    "<font color='red'>The rest of the notebook will work if you don't wait until the model version is ready!</font>"
   ]
  },
  {
   "cell_type": "code",
   "execution_count": 9,
   "metadata": {},
   "outputs": [
    {
     "data": {
      "text/plain": [
       "'READY'"
      ]
     },
     "execution_count": 9,
     "metadata": {},
     "output_type": "execute_result"
    }
   ],
   "source": [
    "models.get_version(model_id, version_id)[\"status\"]"
   ]
  },
  {
   "cell_type": "markdown",
   "metadata": {},
   "source": [
    "# 5. (Optional) Check the training outcome\n",
    "\n",
    "What has our linear regression model learned?\n",
    "Since we persisted the coefficients in `coefficients.csv` during the training routine we can now take a look at them manually of we want.\n",
    "\n",
    "Remember that we know our training data is given by `y = 10 + 3*f1 + f2`."
   ]
  },
  {
   "cell_type": "code",
   "execution_count": 10,
   "metadata": {},
   "outputs": [
    {
     "data": {
      "text/html": [
       "<div>\n",
       "<style scoped>\n",
       "    .dataframe tbody tr th:only-of-type {\n",
       "        vertical-align: middle;\n",
       "    }\n",
       "\n",
       "    .dataframe tbody tr th {\n",
       "        vertical-align: top;\n",
       "    }\n",
       "\n",
       "    .dataframe thead th {\n",
       "        text-align: right;\n",
       "    }\n",
       "</style>\n",
       "<table border=\"1\" class=\"dataframe\">\n",
       "  <thead>\n",
       "    <tr style=\"text-align: right;\">\n",
       "      <th></th>\n",
       "      <th>beta_hat</th>\n",
       "    </tr>\n",
       "  </thead>\n",
       "  <tbody>\n",
       "    <tr>\n",
       "      <th>0</th>\n",
       "      <td>10.0</td>\n",
       "    </tr>\n",
       "    <tr>\n",
       "      <th>1</th>\n",
       "      <td>3.0</td>\n",
       "    </tr>\n",
       "    <tr>\n",
       "      <th>2</th>\n",
       "      <td>1.0</td>\n",
       "    </tr>\n",
       "  </tbody>\n",
       "</table>\n",
       "</div>"
      ],
      "text/plain": [
       "   beta_hat\n",
       "0      10.0\n",
       "1       3.0\n",
       "2       1.0"
      ]
     },
     "execution_count": 10,
     "metadata": {},
     "output_type": "execute_result"
    }
   ],
   "source": [
    "# Not supported through the SDK yet, so we'll call the endpoints directly\n",
    "coefficients_download_url = requests.get(\n",
    "    f\"https://api.cognitedata.com/api/0.6\" \\\n",
    "    f\"/projects/{PROJECT}\" \\\n",
    "    f\"/analytics\" \\\n",
    "    f\"/models/{model_id}\" \\\n",
    "    f\"/versions/{version_id}\" \\\n",
    "    f\"/artefacts/coefficients.csv\",\n",
    "    headers={\"api-key\": API_KEY}\n",
    ").json()[\"downloadURL\"]\n",
    "pd.read_csv(StringIO(requests.get(coefficients_download_url).text))"
   ]
  },
  {
   "cell_type": "markdown",
   "metadata": {},
   "source": [
    "# 6. Predict with our model version\n",
    "\n",
    "Now that our model version is ready we can use it to predict.\n",
    "Let's give it three instances to predict on, and let's specify that we want four decimal digits using our custom argument."
   ]
  },
  {
   "cell_type": "code",
   "execution_count": 11,
   "metadata": {},
   "outputs": [
    {
     "data": {
      "text/plain": [
       "{'predictions': [14.0, 29.0, 10.3333]}"
      ]
     },
     "execution_count": 11,
     "metadata": {},
     "output_type": "execute_result"
    }
   ],
   "source": [
    "models.online_predict(\n",
    "    model_id=model_id,\n",
    "    version_id=version_id,\n",
    "    instances=[\n",
    "        [1, 1],\n",
    "        [3, 10],\n",
    "        [0, 1/3]\n",
    "    ],\n",
    "    args={\"precision\": 4}\n",
    ")"
   ]
  },
  {
   "cell_type": "markdown",
   "metadata": {},
   "source": [
    "Does this match `y = 10 + 3*f1 + f2`?"
   ]
  }
 ],
 "metadata": {
  "kernelspec": {
   "display_name": "Python 3",
   "language": "python",
   "name": "python3"
  },
  "language_info": {
   "codemirror_mode": {
    "name": "ipython",
    "version": 3
   },
   "file_extension": ".py",
   "mimetype": "text/x-python",
   "name": "python",
   "nbconvert_exporter": "python",
   "pygments_lexer": "ipython3",
   "version": "3.6.6"
  }
 },
 "nbformat": 4,
 "nbformat_minor": 2
}
